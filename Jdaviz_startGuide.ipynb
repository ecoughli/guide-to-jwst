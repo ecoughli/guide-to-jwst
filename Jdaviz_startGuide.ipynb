{
 "cells": [
  {
   "cell_type": "markdown",
   "id": "ed0458bf-7227-425e-8b9b-b09992170ba7",
   "metadata": {},
   "source": [
    "# Getting Started with Jdaviz"
   ]
  },
  {
   "cell_type": "markdown",
   "id": "62c5bc04-c9e5-4eb2-bd36-f4489da42a47",
   "metadata": {},
   "source": [
    "## Environment set-up:"
   ]
  },
  {
   "cell_type": "markdown",
   "id": "551573ea-466d-4c3d-957e-5f7a13c22174",
   "metadata": {},
   "source": [
    "First, activate a bash shell using the command 'bash'. (Is not compatitble with CSH/TSCH shells)\n",
    "\n",
    "Then, create a new conda environment to install the Jdaviz software within."
   ]
  },
  {
   "cell_type": "code",
   "execution_count": null,
   "id": "3c7f7101-fd9f-46a9-ba63-1352f164f3f2",
   "metadata": {},
   "outputs": [],
   "source": [
    "conda create -n jdaviz_env python=3.12"
   ]
  },
  {
   "cell_type": "code",
   "execution_count": null,
   "id": "e77b7b79-88ae-4ef0-8569-5e990ed8036a",
   "metadata": {},
   "outputs": [],
   "source": [
    "conda activate jdaviz_env\n",
    "#(to exit jdaviz_env conda environment, >> conda deactivate)"
   ]
  },
  {
   "cell_type": "markdown",
   "id": "47138202-f348-4931-9d32-43e1006366c4",
   "metadata": {},
   "source": [
    "Now, install jdaviz inside your new jdaviz_env..."
   ]
  },
  {
   "cell_type": "code",
   "execution_count": null,
   "id": "92b76c00-f57f-4cfc-85ec-b0036f03de4c",
   "metadata": {},
   "outputs": [],
   "source": [
    "pip3 install jdaviz --upgrade"
   ]
  },
  {
   "cell_type": "markdown",
   "id": "f52ea689-2b4d-4939-bfb7-b926938d6ac1",
   "metadata": {},
   "source": [
    "## Jdaviz as a Standalone Application"
   ]
  },
  {
   "cell_type": "markdown",
   "id": "53ef89ac-69e1-412c-bc89-1d1a444b7b3a",
   "metadata": {},
   "source": [
    "Call `jdaviz` in the command line to launch Jdaviz. \n",
    "\n",
    "This will launch a user inferface from which you can input a data file, and the `jdaviz` launcher will choose the best app configuration to view your data. The user can alternatively select which configuration they wish to use from this interface. "
   ]
  },
  {
   "cell_type": "markdown",
   "id": "81630bae-3c35-4e2d-9512-74e93237821c",
   "metadata": {},
   "source": [
    "You can also launch a specific viz tool directly from the command line. "
   ]
  },
  {
   "cell_type": "markdown",
   "id": "a6812586-8d4d-40cb-a7c0-2e28929ba78f",
   "metadata": {},
   "source": [
    "The below line of code specifies the `layout` [`imviz, cubeviz,mosviz,specviz2d`] and the data file you wish to open. \n",
    "\n",
    "For example, to open an example data file, `data_file.fits`, in Imviz from the command line..."
   ]
  },
  {
   "cell_type": "code",
   "execution_count": null,
   "id": "2e67d6d4-77ab-4964-a96a-bcf9318b314e",
   "metadata": {},
   "outputs": [],
   "source": [
    "jdaviz --layout=imviz data_file.fits"
   ]
  },
  {
   "cell_type": "markdown",
   "id": "d6238c01-de85-4b4f-ae2e-aa3e20d4003c",
   "metadata": {},
   "source": [
    "## Jdaviz in a Jupyter Notebook Environment"
   ]
  },
  {
   "cell_type": "markdown",
   "id": "c9351d2b-ca86-4a82-93ab-d69edcf9f990",
   "metadata": {},
   "source": [
    "*Note: Be sure to open Jupyter Notebook in a terminal window where you've already initialized the jdaviz_env conda environment, else the following imports will not be successful. "
   ]
  },
  {
   "cell_type": "code",
   "execution_count": 2,
   "id": "c705846f-28eb-4d36-bfc7-58ba60d1129e",
   "metadata": {},
   "outputs": [],
   "source": [
    "from jdaviz import Imviz"
   ]
  },
  {
   "cell_type": "code",
   "execution_count": 7,
   "id": "2a306c56-09c5-468f-85b1-680e988f89de",
   "metadata": {},
   "outputs": [
    {
     "data": {
      "text/plain": [
       "<bound method Imviz.load_data of <jdaviz.configs.imviz.helper.Imviz object at 0x124f34110>>"
      ]
     },
     "execution_count": 7,
     "metadata": {},
     "output_type": "execute_result"
    }
   ],
   "source": [
    "imviz = Imviz()\n",
    "#imviz.show()\n",
    "\n",
    "imviz.show_in_sidecar()\n",
    "imviz.load_data"
   ]
  },
  {
   "cell_type": "code",
   "execution_count": null,
   "id": "7c1e2cf8-e39b-4e70-a6a3-95399d1a8a65",
   "metadata": {},
   "outputs": [],
   "source": []
  }
 ],
 "metadata": {
  "kernelspec": {
   "display_name": "Python 3 (ipykernel)",
   "language": "python",
   "name": "python3"
  },
  "language_info": {
   "codemirror_mode": {
    "name": "ipython",
    "version": 3
   },
   "file_extension": ".py",
   "mimetype": "text/x-python",
   "name": "python",
   "nbconvert_exporter": "python",
   "pygments_lexer": "ipython3",
   "version": "3.12.4"
  }
 },
 "nbformat": 4,
 "nbformat_minor": 5
}
