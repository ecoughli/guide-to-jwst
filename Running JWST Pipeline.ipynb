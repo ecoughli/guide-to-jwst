{
 "cells": [
  {
   "cell_type": "markdown",
   "id": "a675548d-507c-4f84-813b-e63c04424b66",
   "metadata": {},
   "source": [
    "# Running the _JWST_ Pipeline"
   ]
  },
  {
   "cell_type": "markdown",
   "id": "1ab50332-f29f-486f-815e-d89631dc767e",
   "metadata": {},
   "source": [
    "### Environment set-up:"
   ]
  },
  {
   "cell_type": "markdown",
   "id": "2202381f-dc45-425c-a661-30d4249e1412",
   "metadata": {},
   "source": [
    "First, cd to the file folder that has the relevant uncal.fits file.\n",
    "\n",
    "Then, in the tsch shell,"
   ]
  },
  {
   "cell_type": "code",
   "execution_count": null,
   "id": "1d7f490c-e481-4707-ba16-68cede808741",
   "metadata": {},
   "outputs": [
    {
     "name": "stdout",
     "output_type": "stream",
     "text": [
      "Retrieving notices: ...working... done\n",
      "WARNING: A conda environment already exists at '/usr/local/anaconda3/envs/jwst_env'\n",
      "Remove existing environment (y/[n])? "
     ]
    }
   ],
   "source": [
    "conda create -n jwst_env python=3.11"
   ]
  },
  {
   "cell_type": "code",
   "execution_count": null,
   "id": "4d240487-c66e-455e-98a7-bf412a2636fc",
   "metadata": {},
   "outputs": [],
   "source": [
    "conda activate jwst_env"
   ]
  },
  {
   "cell_type": "code",
   "execution_count": null,
   "id": "f22e8292-4a75-455d-bb8e-02041617291f",
   "metadata": {},
   "outputs": [],
   "source": [
    "pip3 install jwst"
   ]
  },
  {
   "cell_type": "code",
   "execution_count": null,
   "id": "f6100373-e0cb-4fe6-a6a1-fe74a4d3a210",
   "metadata": {},
   "outputs": [],
   "source": [
    "pip3 install jupyter"
   ]
  },
  {
   "cell_type": "markdown",
   "id": "ce72714e-b63c-4e0c-8879-b25d783aa4b3",
   "metadata": {},
   "source": [
    "Note: do not use _pip install jwst --upgrade_ -- instead, uninstall and reinstall to ensure all dependency packages are also upgraded."
   ]
  },
  {
   "cell_type": "markdown",
   "id": "da8c380e-830b-451e-89b1-264c98c1c8f4",
   "metadata": {},
   "source": [
    "### Setting environment variables for the Calibration References Data System (CRDS):"
   ]
  },
  {
   "cell_type": "markdown",
   "id": "6c994100-d014-4a52-bd6d-7ad97b341e96",
   "metadata": {},
   "source": [
    "In a bash shell (activate using the command 'bash'), "
   ]
  },
  {
   "cell_type": "code",
   "execution_count": null,
   "id": "da512747-0999-4a18-b7c7-86675472d50c",
   "metadata": {},
   "outputs": [],
   "source": [
    "mkdir $HOME/crds_cache\n",
    "export CRDS_PATH=$HOME/crds_cache\n",
    "export CRDS_SERVER_URL=https://jwst-crds.stsci.edu"
   ]
  },
  {
   "cell_type": "markdown",
   "id": "016eeea1-a535-4b56-9328-a777e850c9c5",
   "metadata": {},
   "source": [
    "Alternatively, the two environment variables can be set in tsch using:"
   ]
  },
  {
   "cell_type": "code",
   "execution_count": null,
   "id": "2b00dca0-489b-4cc0-b52a-2058b7d5174b",
   "metadata": {},
   "outputs": [],
   "source": [
    "setenv CRDS_PATH $HOME/crds_cache\n",
    "setenv CRDS_SERVER_URL https://jwst-crds.stsci.edu"
   ]
  },
  {
   "cell_type": "markdown",
   "id": "5fe25d55-2a5e-4725-9b29-a992e11f2e9c",
   "metadata": {},
   "source": [
    "Using the command 'printenv,' confirm that the two environment variables have been correctly set.  They must be defined before importing any _JWST_ or CRDS software packages.  If the CRDS environment variables were not set before initializing Python, they can be set in the Python session using 'os.environ': or CRDS software pacakges.\n",
    "\n",
    "Additionally, do not modify the 'context' parameter to anything other than the default, as it is a .pars file that changes."
   ]
  },
  {
   "cell_type": "markdown",
   "id": "42e03a9d-10fc-4457-a7c8-2c26b5f7f429",
   "metadata": {},
   "source": [
    "If the CRDS environment variables were not set before initializing Python, they can be set in the Python session using 'os.environ':"
   ]
  },
  {
   "cell_type": "code",
   "execution_count": null,
   "id": "9b4017a6-3621-4859-aba8-222bc5f0fb78",
   "metadata": {},
   "outputs": [],
   "source": [
    "import os\n",
    "os.environ['CRDS_PATH'] = '$HOME/crds_cache'\n",
    "os.environ['CRDS_SERVER_URL'] = 'https://jwst-crds.stsci.edu'"
   ]
  },
  {
   "cell_type": "markdown",
   "id": "9869508c-30d6-4d35-a171-a795ceddb233",
   "metadata": {},
   "source": [
    "### Stage 1: calwebb\\_detector1:"
   ]
  },
  {
   "cell_type": "markdown",
   "id": "90a13e04-039d-4b5a-9d89-bdf10f5281aa",
   "metadata": {},
   "source": [
    "This initial stage applies basic detector-level corrections to all exposure types, one exposure at a time."
   ]
  },
  {
   "cell_type": "markdown",
   "id": "b94ff258-9469-48af-807e-3b2fad8b3ad1",
   "metadata": {},
   "source": [
    "To run the full pipeline, "
   ]
  },
  {
   "cell_type": "code",
   "execution_count": null,
   "id": "9c025224-3329-4690-9959-476a82a42936",
   "metadata": {},
   "outputs": [],
   "source": [
    "python\n",
    "\n",
    "import jwst\n",
    "import crds\n",
    "file_name = 'EXAMPLE.FITS'\n",
    "\n",
    "from jwst.pipeline import Detector1Pipeline\n",
    "result = Detector1Pipeline.call(file_name)"
   ]
  },
  {
   "cell_type": "markdown",
   "id": "cd9f0786-e0c0-4bd4-97aa-bc51ee557594",
   "metadata": {},
   "source": [
    "The first time this is run, the CRDS server should download all of the context/reference files needed for that run and place them in the CRDS_PATH-indicated directory.\n",
    "\n",
    "It is not recommended to use the 'run' method to run a pipeline or step.  Instead, use the 'call' method."
   ]
  },
  {
   "cell_type": "markdown",
   "id": "b8f193a9-c28d-41b1-9002-ed102b6d0f69",
   "metadata": {},
   "source": [
    "BE PATIENT!"
   ]
  },
  {
   "cell_type": "markdown",
   "id": "b212f074-8e37-40f2-b332-595259d5f15c",
   "metadata": {},
   "source": [
    "The 'pipeline' module contains all full pipeline stages.  For example, to import Stage 3 Imaging Processing requires the following command:"
   ]
  },
  {
   "cell_type": "code",
   "execution_count": null,
   "id": "56dce5f8-6bfb-4d01-aa00-eabedbf76f91",
   "metadata": {},
   "outputs": [],
   "source": [
    "from jwst.pipeline import Image3Pipeline"
   ]
  },
  {
   "cell_type": "markdown",
   "id": "c8eb3f84-4059-46f8-8a74-f7fd0f6f221b",
   "metadata": {},
   "source": [
    "For individual pipeline steps, import by name from their respective module.  For example,"
   ]
  },
  {
   "cell_type": "code",
   "execution_count": null,
   "id": "6a321f57-a682-4f4a-aa12-42512c9581da",
   "metadata": {},
   "outputs": [],
   "source": [
    "from jwst.saturation import SaturationStep"
   ]
  },
  {
   "cell_type": "markdown",
   "id": "c9985e2e-00d1-4180-8dc4-c9536f0660e9",
   "metadata": {},
   "source": [
    "Once imported, a pipeline or step is execute using the class's .call() method.  The input can be a string path to a file or an open DataModel object.  By default, no files are written out.\n",
    "\n",
    "Additionally, by default, CRDS chooses the pipeline/step parameters and reference files based on information such as instrument, observing mode, date, etc.  Provided the current context was not changed from the default, these represent the best choice of parameters and reference files for the provided dataset."
   ]
  },
  {
   "cell_type": "markdown",
   "id": "7dddb1dd-5f11-4931-8eb1-31cd4fb8b4d3",
   "metadata": {},
   "source": [
    "To save the final pipeline output products to a file, include the 'save_results' parameter.  The 'result' definition is then:"
   ]
  },
  {
   "cell_type": "code",
   "execution_count": null,
   "id": "c5cfbe02-a913-4e1e-aec1-57bbbe8e1781",
   "metadata": {},
   "outputs": [],
   "source": [
    "result = Detector1Pipeline.call(file_name, save_results=True)"
   ]
  },
  {
   "cell_type": "markdown",
   "id": "0750cce6-f8ef-47d6-bfa6-5866b08d9d4e",
   "metadata": {},
   "source": [
    "#### In the command line:"
   ]
  },
  {
   "cell_type": "markdown",
   "id": "94f5d4aa-c282-4f19-8e32-3f4cbfe6f483",
   "metadata": {},
   "source": [
    "The command line interface for individual steps and pipelines involves the 'strun' command.  Just as with the python environment, the CRDS environment variables must be defined before running any pipelines/steps.  Invoke 'strun,' then specify a pipeline or class name, then name the input file.  Either the pipeline class or alias name can be used ('jwst.pipeline.Detector1Pipeline' is the class which has the alias 'calwebb_detector1' and either name can be specified).  For example,"
   ]
  },
  {
   "cell_type": "code",
   "execution_count": null,
   "id": "9d9f4b81-5849-4904-912b-525a767054c1",
   "metadata": {},
   "outputs": [],
   "source": [
    "$ strun calwebb_detector1 jw04501038001_03104_00001_nrca1_uncal.fits"
   ]
  },
  {
   "cell_type": "markdown",
   "id": "2a4922c2-1f87-4e38-a2ca-e6b57c8d8fcf",
   "metadata": {},
   "source": [
    "An exit status of '0' indicates successful completion of the step or pipeline, while '1' means a general error has occured and '64' indicates that no science data was found.\n",
    "\n",
    "Just like the python environment, 'save_results' can be specified:"
   ]
  },
  {
   "cell_type": "code",
   "execution_count": null,
   "id": "3c6b85af-cf2a-452a-b8dd-d9ba498d6e04",
   "metadata": {},
   "outputs": [],
   "source": [
    "$ strun calwebb_detector1 jw04501038001_03104_00001_nrca1_uncal.fits\n",
    "    --save_results=true"
   ]
  },
  {
   "cell_type": "markdown",
   "id": "8b54c66d-73b7-4905-85c4-474e9449dc48",
   "metadata": {},
   "source": [
    "#### Logging Configuration"
   ]
  },
  {
   "cell_type": "markdown",
   "id": "4c20df8a-5308-49d5-8051-39c00ac81fb5",
   "metadata": {},
   "source": [
    "To save log information, first set up a configuration file to specify the desired level of logging messages.  This file must be in the same directory in which the pipeline is being run.\n",
    "\n",
    "For example, if a file called 'pipeline_log.cfg' is created with the following contents,"
   ]
  },
  {
   "cell_type": "code",
   "execution_count": null,
   "id": "7a659ca2-6b8b-4323-9d1e-5166574238a1",
   "metadata": {},
   "outputs": [],
   "source": [
    "[*]\n",
    "handler = file:pipeline.log\n",
    "level = INFO"
   ]
  },
  {
   "cell_type": "markdown",
   "id": "6fc083a6-f506-46c9-8829-21aeff5e2666",
   "metadata": {},
   "source": [
    "then log information will be written to a file named 'pipeline.log' with the level of detail set to 'INFO' (other options include 'DEBUG,' 'WARNING,' 'ERROR,' and 'CRITICAL').  Only messages at or above the specified level will be displayed."
   ]
  },
  {
   "cell_type": "markdown",
   "id": "82e4f302-0d2b-4b81-94d9-22a99be65602",
   "metadata": {},
   "source": [
    "When running the pipeline in a python environment, simply add the 'logcfg' parameter.  The 'result' definition from before is then:"
   ]
  },
  {
   "cell_type": "code",
   "execution_count": null,
   "id": "1f71c436-3c4a-4585-9be1-a359bd42ee12",
   "metadata": {},
   "outputs": [],
   "source": [
    "result = Detector1Pipeline.call(file_name, logcfg=\"pipeline-log.cfg\")"
   ]
  },
  {
   "cell_type": "markdown",
   "id": "aff017e8-0e42-4dca-ad1a-65f1ac43d405",
   "metadata": {},
   "source": [
    "In the command line, a similar option is added:"
   ]
  },
  {
   "cell_type": "code",
   "execution_count": null,
   "id": "2836088e-f814-4ac3-8104-bc4660196976",
   "metadata": {},
   "outputs": [],
   "source": [
    "$ strun calwebb_detector1 <input_file>\n",
    "    --logcfg=pipeline-log.cfg"
   ]
  },
  {
   "cell_type": "code",
   "execution_count": null,
   "id": "7b2dd054-8504-451c-921c-4f24322c9fd7",
   "metadata": {},
   "outputs": [],
   "source": []
  }
 ],
 "metadata": {
  "kernelspec": {
   "display_name": "Python 3 (ipykernel)",
   "language": "python",
   "name": "python3"
  },
  "language_info": {
   "codemirror_mode": {
    "name": "ipython",
    "version": 3
   },
   "file_extension": ".py",
   "mimetype": "text/x-python",
   "name": "python",
   "nbconvert_exporter": "python",
   "pygments_lexer": "ipython3",
   "version": "3.9.12"
  }
 },
 "nbformat": 4,
 "nbformat_minor": 5
}
